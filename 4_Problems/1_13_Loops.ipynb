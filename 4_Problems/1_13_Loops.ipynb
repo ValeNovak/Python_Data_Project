{
 "cells": [
  {
   "cell_type": "markdown",
   "id": "37897aa9",
   "metadata": {},
   "source": [
    "## 🟩 Print Job Titles (1.13.1)"
   ]
  },
  {
   "cell_type": "code",
   "execution_count": 1,
   "id": "45d217e3",
   "metadata": {},
   "outputs": [
    {
     "name": "stdout",
     "output_type": "stream",
     "text": [
      "Data Scientist\n",
      "Data Analyst\n",
      "Machine Learning Engineer\n"
     ]
    }
   ],
   "source": [
    "job_titles = ['Data Scientist', 'Data Analyst', 'Machine Learning Engineer']\n",
    "\n",
    "for title in job_titles:\n",
    "    print(title)"
   ]
  },
  {
   "cell_type": "markdown",
   "id": "1943a324",
   "metadata": {},
   "source": [
    "---"
   ]
  },
  {
   "cell_type": "markdown",
   "id": "90020e24",
   "metadata": {},
   "source": [
    "## 🟩 Total Job Postings (1.13.2)"
   ]
  },
  {
   "cell_type": "code",
   "execution_count": 17,
   "id": "038f046a",
   "metadata": {},
   "outputs": [
    {
     "name": "stdout",
     "output_type": "stream",
     "text": [
      "Total Job Postings: 75\n"
     ]
    }
   ],
   "source": [
    "job_postings = [5, 10, 15, 20, 25]\n",
    "total = 0 \n",
    "\n",
    "for job in job_postings:\n",
    "    total += job  \n",
    "\n",
    "print(\"Total Job Postings:\", total)\n",
    "\n"
   ]
  },
  {
   "cell_type": "markdown",
   "id": "4eec072a",
   "metadata": {},
   "source": [
    "## 🟨 Print Job Titles with Index (1.13.3)"
   ]
  },
  {
   "cell_type": "code",
   "execution_count": null,
   "id": "ee175f7b",
   "metadata": {},
   "outputs": [
    {
     "name": "stdout",
     "output_type": "stream",
     "text": [
      "0 Data Scientist\n",
      "1 Data Analyst\n",
      "2 Machine Learning Engineer\n"
     ]
    }
   ],
   "source": [
    "job_titles = ['Data Scientist', 'Data Analyst', 'Machine Learning Engineer']\n",
    "index = 0\n",
    "\n",
    "for job in range(index, len(job_titles)):\n",
    "    print(index,job_titles[job])\n",
    "    index=index+1"
   ]
  },
  {
   "cell_type": "markdown",
   "id": "d2d5f706",
   "metadata": {},
   "source": [
    "---"
   ]
  },
  {
   "cell_type": "markdown",
   "id": "7001cfa8",
   "metadata": {},
   "source": [
    "## 🟨 Find First Engineer (1.13.4)"
   ]
  },
  {
   "cell_type": "code",
   "execution_count": null,
   "id": "724ac1bf",
   "metadata": {},
   "outputs": [],
   "source": [
    "# Code Needed\n",
    "job_titles = ['Data Scientist', 'Data Analyst', 'Machine Learning Engineer', 'Software Engineer']"
   ]
  },
  {
   "cell_type": "markdown",
   "id": "2021b7cd",
   "metadata": {},
   "source": [
    "---"
   ]
  },
  {
   "cell_type": "markdown",
   "id": "be1bf346",
   "metadata": {},
   "source": [
    "## 🟥 Print Job Titles Containing 'Data' (1.13.5)"
   ]
  },
  {
   "cell_type": "code",
   "execution_count": null,
   "id": "c71d29c9",
   "metadata": {},
   "outputs": [],
   "source": [
    "# Code Needed\n",
    "positions_skills = {\n",
    "    'Data Scientist': ['Python', 'R'],\n",
    "    'Data Analyst': ['SQL', 'Excel'],\n",
    "    'Machine Learning Engineer': ['Python', 'TensorFlow']\n",
    "}"
   ]
  },
  {
   "cell_type": "markdown",
   "id": "11af0530",
   "metadata": {},
   "source": [
    "---"
   ]
  }
 ],
 "metadata": {
  "kernelspec": {
   "display_name": "python_course",
   "language": "python",
   "name": "python3"
  },
  "language_info": {
   "codemirror_mode": {
    "name": "ipython",
    "version": 3
   },
   "file_extension": ".py",
   "mimetype": "text/x-python",
   "name": "python",
   "nbconvert_exporter": "python",
   "pygments_lexer": "ipython3",
   "version": "3.11.11"
  }
 },
 "nbformat": 4,
 "nbformat_minor": 5
}
